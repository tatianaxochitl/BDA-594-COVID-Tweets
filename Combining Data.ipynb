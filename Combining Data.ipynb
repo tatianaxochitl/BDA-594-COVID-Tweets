{
 "cells": [
  {
   "cell_type": "code",
   "execution_count": 2,
   "metadata": {},
   "outputs": [
    {
     "name": "stdout",
     "output_type": "stream",
     "text": [
      "Requirement already satisfied: inline in /Users/marcosgonzalez/Desktop/anaconda3/envs/new-r/lib/python3.8/site-packages (0.0.1)\n",
      "Requirement already satisfied: matplotlib in /Users/marcosgonzalez/Desktop/anaconda3/envs/new-r/lib/python3.8/site-packages (3.3.2)\n",
      "Requirement already satisfied: cycler>=0.10 in /Users/marcosgonzalez/Desktop/anaconda3/envs/new-r/lib/python3.8/site-packages (from matplotlib) (0.10.0)\n",
      "Requirement already satisfied: kiwisolver>=1.0.1 in /Users/marcosgonzalez/Desktop/anaconda3/envs/new-r/lib/python3.8/site-packages (from matplotlib) (1.2.0)\n",
      "Requirement already satisfied: pyparsing!=2.0.4,!=2.1.2,!=2.1.6,>=2.0.3 in /Users/marcosgonzalez/Desktop/anaconda3/envs/new-r/lib/python3.8/site-packages (from matplotlib) (2.4.7)\n",
      "Requirement already satisfied: certifi>=2020.06.20 in /Users/marcosgonzalez/Desktop/anaconda3/envs/new-r/lib/python3.8/site-packages (from matplotlib) (2020.6.20)\n",
      "Requirement already satisfied: pillow>=6.2.0 in /Users/marcosgonzalez/Desktop/anaconda3/envs/new-r/lib/python3.8/site-packages (from matplotlib) (8.0.0)\n",
      "Requirement already satisfied: numpy>=1.15 in /Users/marcosgonzalez/Desktop/anaconda3/envs/new-r/lib/python3.8/site-packages (from matplotlib) (1.19.1)\n",
      "Requirement already satisfied: python-dateutil>=2.1 in /Users/marcosgonzalez/Desktop/anaconda3/envs/new-r/lib/python3.8/site-packages (from matplotlib) (2.8.1)\n",
      "Requirement already satisfied: six in /Users/marcosgonzalez/Desktop/anaconda3/envs/new-r/lib/python3.8/site-packages (from cycler>=0.10->matplotlib) (1.15.0)\n"
     ]
    }
   ],
   "source": [
    "# Load the regular expression library\n",
    "import re\n",
    "import sys\n",
    "!{sys.executable} -m pip install inline\n",
    "!{sys.executable} -m pip install matplotlib\n",
    "import inline\n",
    "import matplotlib\n",
    "import pandas as pd\n",
    "\n",
    "data = pd.read_csv('march_27_tweet.csv', low_memory=False)\n",
    "\n",
    "# Filter to only English entries.\n",
    "data = data[data['lang'] == 'en']\n",
    "\n",
    "#remove columns other than the tweet, place, or user_location\n",
    "data.drop(data.columns.difference(['text', 'place', 'user_location']), 1, inplace=True)\n",
    "\n",
    "#filter out rows that\n",
    "data1 = data[data.select_dtypes(include='object').apply(lambda x: x.str.contains('california', flags=re.IGNORECASE, regex=True)).all(axis=1)]\n",
    "data2 = data[data.select_dtypes(include='object').apply(lambda x: x.str.contains('CA')).all(axis=1)]\n",
    "data = [data1, data2]\n",
    "result = pd.concat(data)\n",
    "result.head()\n",
    "\n",
    "result.to_csv('032720_tweets',index=False)\n",
    "\n",
    "#print(result)"
   ]
  },
  {
   "cell_type": "code",
   "execution_count": 40,
   "metadata": {},
   "outputs": [
    {
     "name": "stdout",
     "output_type": "stream",
     "text": [
      "     place                                               text  user_location\n",
      "583    NaN  Trump Ripped Over ‘Congratulations AMERICA!’ T...  San Diego, CA\n",
      "608    NaN  Another great example of how we can be “disrup...  San Diego, CA\n",
      "617    NaN      FYI SOCAAALSSS 🇺🇸🇺🇸🇺🇸 https://t.co/NfX9KdmWVK  San Diego, CA\n",
      "622    NaN  JUST HOW DO YOU UOU TOUT SUCCESS WHEN WE THE W...  San Diego, CA\n",
      "921    NaN  Starting today all @CA_DMV offices will be clo...  San Diego, CA\n",
      "1209   NaN  PLEASE GUYS!!!! SHOP LOCAL! https://t.co/BpeIr...  San Diego, CA\n",
      "1343   NaN  The @uscensusbureau has suspended field operat...  San Diego, CA\n",
      "1799   NaN  For all those on the #COVID front lines who ha...  San Diego, CA\n",
      "1872   NaN  Thank you @RepSusanDavis  for including $1.32B...  San Diego, CA\n",
      "1905   NaN  We acknowledge the necessity of @CAgovernor @G...  San Diego, CA\n",
      "2026   NaN  @JoeySalads Ur clearly a dumb def and blind in...  San Diego, CA\n",
      "2040   NaN  Detained immigrants face deadly risk in corona...  San Diego, CA\n"
     ]
    }
   ],
   "source": [
    "new = pd.read_csv('032720_tweets.csv', low_memory=False)\n",
    "new.head()\n",
    "\n",
    "\n",
    "#print(new['user_location'])\n",
    "san_diego = new.loc[new['user_location'] == \"San Diego, CA\"] \n",
    "print(san_diego)\n",
    "\n"
   ]
  },
  {
   "cell_type": "code",
   "execution_count": 9,
   "metadata": {},
   "outputs": [
    {
     "name": "stdout",
     "output_type": "stream",
     "text": [
      "Requirement already satisfied: inline in /Users/marcosgonzalez/Desktop/anaconda3/envs/new-r/lib/python3.8/site-packages (0.0.1)\n",
      "Requirement already satisfied: matplotlib in /Users/marcosgonzalez/Desktop/anaconda3/envs/new-r/lib/python3.8/site-packages (3.3.2)\n",
      "Requirement already satisfied: numpy>=1.15 in /Users/marcosgonzalez/Desktop/anaconda3/envs/new-r/lib/python3.8/site-packages (from matplotlib) (1.19.1)\n",
      "Requirement already satisfied: kiwisolver>=1.0.1 in /Users/marcosgonzalez/Desktop/anaconda3/envs/new-r/lib/python3.8/site-packages (from matplotlib) (1.2.0)\n",
      "Requirement already satisfied: pillow>=6.2.0 in /Users/marcosgonzalez/Desktop/anaconda3/envs/new-r/lib/python3.8/site-packages (from matplotlib) (8.0.0)\n",
      "Requirement already satisfied: pyparsing!=2.0.4,!=2.1.2,!=2.1.6,>=2.0.3 in /Users/marcosgonzalez/Desktop/anaconda3/envs/new-r/lib/python3.8/site-packages (from matplotlib) (2.4.7)\n",
      "Requirement already satisfied: certifi>=2020.06.20 in /Users/marcosgonzalez/Desktop/anaconda3/envs/new-r/lib/python3.8/site-packages (from matplotlib) (2020.6.20)\n",
      "Requirement already satisfied: python-dateutil>=2.1 in /Users/marcosgonzalez/Desktop/anaconda3/envs/new-r/lib/python3.8/site-packages (from matplotlib) (2.8.1)\n",
      "Requirement already satisfied: cycler>=0.10 in /Users/marcosgonzalez/Desktop/anaconda3/envs/new-r/lib/python3.8/site-packages (from matplotlib) (0.10.0)\n",
      "Requirement already satisfied: six>=1.5 in /Users/marcosgonzalez/Desktop/anaconda3/envs/new-r/lib/python3.8/site-packages (from python-dateutil>=2.1->matplotlib) (1.15.0)\n"
     ]
    }
   ],
   "source": [
    "import re\n",
    "import sys\n",
    "!{sys.executable} -m pip install inline\n",
    "!{sys.executable} -m pip install matplotlib\n",
    "import inline\n",
    "import matplotlib\n",
    "import pandas as pd\n",
    "\n",
    "data = pd.read_csv('april_30_tweets.csv', low_memory=False)\n",
    "\n",
    "# Filter to only English entries.\n",
    "data = data[data['lang'] == 'en']\n",
    "\n",
    "#remove columns other than the tweet, place, or user_location\n",
    "data.drop(data.columns.difference(['text', 'place', 'user_location']), 1, inplace=True)\n",
    "\n",
    "#filter out rows that\n",
    "data1 = data[data.select_dtypes(include='object').apply(lambda x: x.str.contains('california', flags=re.IGNORECASE, regex=True)).all(axis=1)]\n",
    "data2 = data[data.select_dtypes(include='object').apply(lambda x: x.str.contains('CA')).all(axis=1)]\n",
    "data = [data1, data2]\n",
    "result = pd.concat(data)\n",
    "result.head()\n",
    "\n",
    "result.to_csv('043020_tweets.csv',index=False)"
   ]
  },
  {
   "cell_type": "code",
   "execution_count": 10,
   "metadata": {},
   "outputs": [
    {
     "data": {
      "text/html": [
       "<div>\n",
       "<style scoped>\n",
       "    .dataframe tbody tr th:only-of-type {\n",
       "        vertical-align: middle;\n",
       "    }\n",
       "\n",
       "    .dataframe tbody tr th {\n",
       "        vertical-align: top;\n",
       "    }\n",
       "\n",
       "    .dataframe thead th {\n",
       "        text-align: right;\n",
       "    }\n",
       "</style>\n",
       "<table border=\"1\" class=\"dataframe\">\n",
       "  <thead>\n",
       "    <tr style=\"text-align: right;\">\n",
       "      <th></th>\n",
       "      <th>place</th>\n",
       "      <th>text</th>\n",
       "      <th>user_location</th>\n",
       "    </tr>\n",
       "  </thead>\n",
       "  <tbody>\n",
       "    <tr>\n",
       "      <th>0</th>\n",
       "      <td>NaN</td>\n",
       "      <td>😡 D.A. warns public of 7 ‘high-risk’ sex offen...</td>\n",
       "      <td>NaN</td>\n",
       "    </tr>\n",
       "    <tr>\n",
       "      <th>1</th>\n",
       "      <td>NaN</td>\n",
       "      <td>@BillFOXLA @FOXLA In California Inmates go fre...</td>\n",
       "      <td>California, USA</td>\n",
       "    </tr>\n",
       "    <tr>\n",
       "      <th>2</th>\n",
       "      <td>NaN</td>\n",
       "      <td>California is just rockin’ it!! https://t.co/N...</td>\n",
       "      <td>California, USA</td>\n",
       "    </tr>\n",
       "    <tr>\n",
       "      <th>3</th>\n",
       "      <td>NaN</td>\n",
       "      <td>7 ‘high-risk’ sex offenders are released out o...</td>\n",
       "      <td>NaN</td>\n",
       "    </tr>\n",
       "    <tr>\n",
       "      <th>4</th>\n",
       "      <td>NaN</td>\n",
       "      <td>Why is Newsom doing this?  Why is he not keepi...</td>\n",
       "      <td>NaN</td>\n",
       "    </tr>\n",
       "  </tbody>\n",
       "</table>\n",
       "</div>"
      ],
      "text/plain": [
       "  place                                               text    user_location\n",
       "0   NaN  😡 D.A. warns public of 7 ‘high-risk’ sex offen...              NaN\n",
       "1   NaN  @BillFOXLA @FOXLA In California Inmates go fre...  California, USA\n",
       "2   NaN  California is just rockin’ it!! https://t.co/N...  California, USA\n",
       "3   NaN  7 ‘high-risk’ sex offenders are released out o...              NaN\n",
       "4   NaN  Why is Newsom doing this?  Why is he not keepi...              NaN"
      ]
     },
     "execution_count": 10,
     "metadata": {},
     "output_type": "execute_result"
    }
   ],
   "source": [
    "another = pd.read_csv('043020_tweets.csv', low_memory=False)\n",
    "another.head()"
   ]
  },
  {
   "cell_type": "code",
   "execution_count": 11,
   "metadata": {},
   "outputs": [
    {
     "name": "stdout",
     "output_type": "stream",
     "text": [
      "Requirement already satisfied: inline in /Users/marcosgonzalez/Desktop/anaconda3/envs/new-r/lib/python3.8/site-packages (0.0.1)\n",
      "Requirement already satisfied: matplotlib in /Users/marcosgonzalez/Desktop/anaconda3/envs/new-r/lib/python3.8/site-packages (3.3.2)\n",
      "Requirement already satisfied: pyparsing!=2.0.4,!=2.1.2,!=2.1.6,>=2.0.3 in /Users/marcosgonzalez/Desktop/anaconda3/envs/new-r/lib/python3.8/site-packages (from matplotlib) (2.4.7)\n",
      "Requirement already satisfied: numpy>=1.15 in /Users/marcosgonzalez/Desktop/anaconda3/envs/new-r/lib/python3.8/site-packages (from matplotlib) (1.19.1)\n",
      "Requirement already satisfied: pillow>=6.2.0 in /Users/marcosgonzalez/Desktop/anaconda3/envs/new-r/lib/python3.8/site-packages (from matplotlib) (8.0.0)\n",
      "Requirement already satisfied: cycler>=0.10 in /Users/marcosgonzalez/Desktop/anaconda3/envs/new-r/lib/python3.8/site-packages (from matplotlib) (0.10.0)\n",
      "Requirement already satisfied: kiwisolver>=1.0.1 in /Users/marcosgonzalez/Desktop/anaconda3/envs/new-r/lib/python3.8/site-packages (from matplotlib) (1.2.0)\n",
      "Requirement already satisfied: python-dateutil>=2.1 in /Users/marcosgonzalez/Desktop/anaconda3/envs/new-r/lib/python3.8/site-packages (from matplotlib) (2.8.1)\n",
      "Requirement already satisfied: certifi>=2020.06.20 in /Users/marcosgonzalez/Desktop/anaconda3/envs/new-r/lib/python3.8/site-packages (from matplotlib) (2020.6.20)\n",
      "Requirement already satisfied: six in /Users/marcosgonzalez/Desktop/anaconda3/envs/new-r/lib/python3.8/site-packages (from cycler>=0.10->matplotlib) (1.15.0)\n"
     ]
    }
   ],
   "source": [
    "import re\n",
    "import sys\n",
    "!{sys.executable} -m pip install inline\n",
    "!{sys.executable} -m pip install matplotlib\n",
    "import inline\n",
    "import matplotlib\n",
    "import pandas as pd\n",
    "\n",
    "data = pd.read_csv('may_07_tweets.csv', low_memory=False)\n",
    "\n",
    "# Filter to only English entries.\n",
    "data = data[data['lang'] == 'en']\n",
    "\n",
    "#remove columns other than the tweet, place, or user_location\n",
    "data.drop(data.columns.difference(['text', 'place', 'user_location']), 1, inplace=True)\n",
    "\n",
    "#filter out rows that\n",
    "data1 = data[data.select_dtypes(include='object').apply(lambda x: x.str.contains('california', flags=re.IGNORECASE, regex=True)).all(axis=1)]\n",
    "data2 = data[data.select_dtypes(include='object').apply(lambda x: x.str.contains('CA')).all(axis=1)]\n",
    "data = [data1, data2]\n",
    "result = pd.concat(data)\n",
    "result.head()\n",
    "\n",
    "result.to_csv('050720_tweets.csv',index=False)"
   ]
  },
  {
   "cell_type": "code",
   "execution_count": 12,
   "metadata": {},
   "outputs": [
    {
     "data": {
      "text/html": [
       "<div>\n",
       "<style scoped>\n",
       "    .dataframe tbody tr th:only-of-type {\n",
       "        vertical-align: middle;\n",
       "    }\n",
       "\n",
       "    .dataframe tbody tr th {\n",
       "        vertical-align: top;\n",
       "    }\n",
       "\n",
       "    .dataframe thead th {\n",
       "        text-align: right;\n",
       "    }\n",
       "</style>\n",
       "<table border=\"1\" class=\"dataframe\">\n",
       "  <thead>\n",
       "    <tr style=\"text-align: right;\">\n",
       "      <th></th>\n",
       "      <th>place</th>\n",
       "      <th>text</th>\n",
       "      <th>user_location</th>\n",
       "    </tr>\n",
       "  </thead>\n",
       "  <tbody>\n",
       "    <tr>\n",
       "      <th>0</th>\n",
       "      <td>NaN</td>\n",
       "      <td>REOPENING KERN:  The Bakersfield City Council ...</td>\n",
       "      <td>Bakersfield, California</td>\n",
       "    </tr>\n",
       "    <tr>\n",
       "      <th>1</th>\n",
       "      <td>NaN</td>\n",
       "      <td>Democrats’ hold on House seat in jeopardy as c...</td>\n",
       "      <td>NaN</td>\n",
       "    </tr>\n",
       "    <tr>\n",
       "      <th>2</th>\n",
       "      <td>NaN</td>\n",
       "      <td>Democrats’ hold on House seat in jeopardy as c...</td>\n",
       "      <td>NaN</td>\n",
       "    </tr>\n",
       "    <tr>\n",
       "      <th>3</th>\n",
       "      <td>NaN</td>\n",
       "      <td>California Coronavirus Update: Governor Gavin ...</td>\n",
       "      <td>California</td>\n",
       "    </tr>\n",
       "    <tr>\n",
       "      <th>4</th>\n",
       "      <td>NaN</td>\n",
       "      <td>Advisers to California Gov. Gavin Newsom agree...</td>\n",
       "      <td>Santa Maria, California</td>\n",
       "    </tr>\n",
       "  </tbody>\n",
       "</table>\n",
       "</div>"
      ],
      "text/plain": [
       "  place                                               text  \\\n",
       "0   NaN  REOPENING KERN:  The Bakersfield City Council ...   \n",
       "1   NaN  Democrats’ hold on House seat in jeopardy as c...   \n",
       "2   NaN  Democrats’ hold on House seat in jeopardy as c...   \n",
       "3   NaN  California Coronavirus Update: Governor Gavin ...   \n",
       "4   NaN  Advisers to California Gov. Gavin Newsom agree...   \n",
       "\n",
       "             user_location  \n",
       "0  Bakersfield, California  \n",
       "1                      NaN  \n",
       "2                      NaN  \n",
       "3               California  \n",
       "4  Santa Maria, California  "
      ]
     },
     "execution_count": 12,
     "metadata": {},
     "output_type": "execute_result"
    }
   ],
   "source": [
    "baba = pd.read_csv('050720_tweets.csv', low_memory=False)\n",
    "baba.head()"
   ]
  },
  {
   "cell_type": "code",
   "execution_count": 13,
   "metadata": {},
   "outputs": [
    {
     "name": "stdout",
     "output_type": "stream",
     "text": [
      "Requirement already satisfied: inline in /Users/marcosgonzalez/Desktop/anaconda3/envs/new-r/lib/python3.8/site-packages (0.0.1)\n",
      "Requirement already satisfied: matplotlib in /Users/marcosgonzalez/Desktop/anaconda3/envs/new-r/lib/python3.8/site-packages (3.3.2)\n",
      "Requirement already satisfied: certifi>=2020.06.20 in /Users/marcosgonzalez/Desktop/anaconda3/envs/new-r/lib/python3.8/site-packages (from matplotlib) (2020.6.20)\n",
      "Requirement already satisfied: numpy>=1.15 in /Users/marcosgonzalez/Desktop/anaconda3/envs/new-r/lib/python3.8/site-packages (from matplotlib) (1.19.1)\n",
      "Requirement already satisfied: kiwisolver>=1.0.1 in /Users/marcosgonzalez/Desktop/anaconda3/envs/new-r/lib/python3.8/site-packages (from matplotlib) (1.2.0)\n",
      "Requirement already satisfied: pillow>=6.2.0 in /Users/marcosgonzalez/Desktop/anaconda3/envs/new-r/lib/python3.8/site-packages (from matplotlib) (8.0.0)\n",
      "Requirement already satisfied: python-dateutil>=2.1 in /Users/marcosgonzalez/Desktop/anaconda3/envs/new-r/lib/python3.8/site-packages (from matplotlib) (2.8.1)\n",
      "Requirement already satisfied: cycler>=0.10 in /Users/marcosgonzalez/Desktop/anaconda3/envs/new-r/lib/python3.8/site-packages (from matplotlib) (0.10.0)\n",
      "Requirement already satisfied: pyparsing!=2.0.4,!=2.1.2,!=2.1.6,>=2.0.3 in /Users/marcosgonzalez/Desktop/anaconda3/envs/new-r/lib/python3.8/site-packages (from matplotlib) (2.4.7)\n",
      "Requirement already satisfied: six>=1.5 in /Users/marcosgonzalez/Desktop/anaconda3/envs/new-r/lib/python3.8/site-packages (from python-dateutil>=2.1->matplotlib) (1.15.0)\n"
     ]
    }
   ],
   "source": [
    "import re\n",
    "import sys\n",
    "!{sys.executable} -m pip install inline\n",
    "!{sys.executable} -m pip install matplotlib\n",
    "import inline\n",
    "import matplotlib\n",
    "import pandas as pd\n",
    "\n",
    "data = pd.read_csv('july_20_tweets.csv', low_memory=False)\n",
    "\n",
    "# Filter to only English entries.\n",
    "data = data[data['lang'] == 'en']\n",
    "\n",
    "#remove columns other than the tweet, place, or user_location\n",
    "data.drop(data.columns.difference(['text', 'place', 'user_location']), 1, inplace=True)\n",
    "\n",
    "#filter out rows that\n",
    "data1 = data[data.select_dtypes(include='object').apply(lambda x: x.str.contains('california', flags=re.IGNORECASE, regex=True)).all(axis=1)]\n",
    "data2 = data[data.select_dtypes(include='object').apply(lambda x: x.str.contains('CA')).all(axis=1)]\n",
    "data = [data1, data2]\n",
    "result = pd.concat(data)\n",
    "result.head()\n",
    "\n",
    "result.to_csv('072020_tweets.csv',index=False)"
   ]
  },
  {
   "cell_type": "code",
   "execution_count": 14,
   "metadata": {},
   "outputs": [
    {
     "data": {
      "text/html": [
       "<div>\n",
       "<style scoped>\n",
       "    .dataframe tbody tr th:only-of-type {\n",
       "        vertical-align: middle;\n",
       "    }\n",
       "\n",
       "    .dataframe tbody tr th {\n",
       "        vertical-align: top;\n",
       "    }\n",
       "\n",
       "    .dataframe thead th {\n",
       "        text-align: right;\n",
       "    }\n",
       "</style>\n",
       "<table border=\"1\" class=\"dataframe\">\n",
       "  <thead>\n",
       "    <tr style=\"text-align: right;\">\n",
       "      <th></th>\n",
       "      <th>place</th>\n",
       "      <th>text</th>\n",
       "      <th>user_location</th>\n",
       "    </tr>\n",
       "  </thead>\n",
       "  <tbody>\n",
       "    <tr>\n",
       "      <th>0</th>\n",
       "      <td>NaN</td>\n",
       "      <td>@JohnnyJet Another sleepy Joe Biden gaff.  The...</td>\n",
       "      <td>NaN</td>\n",
       "    </tr>\n",
       "    <tr>\n",
       "      <th>1</th>\n",
       "      <td>NaN</td>\n",
       "      <td>@LorenaSGonzalez You wouldn't recognize democr...</td>\n",
       "      <td>NaN</td>\n",
       "    </tr>\n",
       "    <tr>\n",
       "      <th>2</th>\n",
       "      <td>NaN</td>\n",
       "      <td>@ChapulinColoRed @rogersniki This is a load of...</td>\n",
       "      <td>California, USA</td>\n",
       "    </tr>\n",
       "    <tr>\n",
       "      <th>3</th>\n",
       "      <td>NaN</td>\n",
       "      <td>#coronavirus first broke out in China, #Trump ...</td>\n",
       "      <td>NaN</td>\n",
       "    </tr>\n",
       "    <tr>\n",
       "      <th>4</th>\n",
       "      <td>NaN</td>\n",
       "      <td>Congressman @RepLaMalfa details a scathing let...</td>\n",
       "      <td>Northern California</td>\n",
       "    </tr>\n",
       "  </tbody>\n",
       "</table>\n",
       "</div>"
      ],
      "text/plain": [
       "  place                                               text  \\\n",
       "0   NaN  @JohnnyJet Another sleepy Joe Biden gaff.  The...   \n",
       "1   NaN  @LorenaSGonzalez You wouldn't recognize democr...   \n",
       "2   NaN  @ChapulinColoRed @rogersniki This is a load of...   \n",
       "3   NaN  #coronavirus first broke out in China, #Trump ...   \n",
       "4   NaN  Congressman @RepLaMalfa details a scathing let...   \n",
       "\n",
       "         user_location  \n",
       "0                  NaN  \n",
       "1                  NaN  \n",
       "2      California, USA  \n",
       "3                  NaN  \n",
       "4  Northern California  "
      ]
     },
     "execution_count": 14,
     "metadata": {},
     "output_type": "execute_result"
    }
   ],
   "source": [
    "hey = pd.read_csv('072020_tweets.csv', low_memory=False)\n",
    "hey.head()"
   ]
  },
  {
   "cell_type": "code",
   "execution_count": 15,
   "metadata": {},
   "outputs": [
    {
     "name": "stdout",
     "output_type": "stream",
     "text": [
      "Requirement already satisfied: inline in /Users/marcosgonzalez/Desktop/anaconda3/envs/new-r/lib/python3.8/site-packages (0.0.1)\n",
      "Requirement already satisfied: matplotlib in /Users/marcosgonzalez/Desktop/anaconda3/envs/new-r/lib/python3.8/site-packages (3.3.2)\n",
      "Requirement already satisfied: pillow>=6.2.0 in /Users/marcosgonzalez/Desktop/anaconda3/envs/new-r/lib/python3.8/site-packages (from matplotlib) (8.0.0)\n",
      "Requirement already satisfied: kiwisolver>=1.0.1 in /Users/marcosgonzalez/Desktop/anaconda3/envs/new-r/lib/python3.8/site-packages (from matplotlib) (1.2.0)\n",
      "Requirement already satisfied: numpy>=1.15 in /Users/marcosgonzalez/Desktop/anaconda3/envs/new-r/lib/python3.8/site-packages (from matplotlib) (1.19.1)\n",
      "Requirement already satisfied: certifi>=2020.06.20 in /Users/marcosgonzalez/Desktop/anaconda3/envs/new-r/lib/python3.8/site-packages (from matplotlib) (2020.6.20)\n",
      "Requirement already satisfied: python-dateutil>=2.1 in /Users/marcosgonzalez/Desktop/anaconda3/envs/new-r/lib/python3.8/site-packages (from matplotlib) (2.8.1)\n",
      "Requirement already satisfied: cycler>=0.10 in /Users/marcosgonzalez/Desktop/anaconda3/envs/new-r/lib/python3.8/site-packages (from matplotlib) (0.10.0)\n",
      "Requirement already satisfied: pyparsing!=2.0.4,!=2.1.2,!=2.1.6,>=2.0.3 in /Users/marcosgonzalez/Desktop/anaconda3/envs/new-r/lib/python3.8/site-packages (from matplotlib) (2.4.7)\n",
      "Requirement already satisfied: six>=1.5 in /Users/marcosgonzalez/Desktop/anaconda3/envs/new-r/lib/python3.8/site-packages (from python-dateutil>=2.1->matplotlib) (1.15.0)\n"
     ]
    }
   ],
   "source": [
    "import re\n",
    "import sys\n",
    "!{sys.executable} -m pip install inline\n",
    "!{sys.executable} -m pip install matplotlib\n",
    "import inline\n",
    "import matplotlib\n",
    "import pandas as pd\n",
    "\n",
    "data = pd.read_csv('august_31_tweets.csv', low_memory=False)\n",
    "\n",
    "# Filter to only English entries.\n",
    "data = data[data['lang'] == 'en']\n",
    "\n",
    "#remove columns other than the tweet, place, or user_location\n",
    "data.drop(data.columns.difference(['text', 'place', 'user_location']), 1, inplace=True)\n",
    "\n",
    "#filter out rows that\n",
    "data1 = data[data.select_dtypes(include='object').apply(lambda x: x.str.contains('california', flags=re.IGNORECASE, regex=True)).all(axis=1)]\n",
    "data2 = data[data.select_dtypes(include='object').apply(lambda x: x.str.contains('CA')).all(axis=1)]\n",
    "data = [data1, data2]\n",
    "result = pd.concat(data)\n",
    "result.head()\n",
    "\n",
    "result.to_csv('083120_tweets.csv',index=False)"
   ]
  },
  {
   "cell_type": "code",
   "execution_count": 23,
   "metadata": {},
   "outputs": [
    {
     "data": {
      "text/plain": [
       "2313"
      ]
     },
     "execution_count": 23,
     "metadata": {},
     "output_type": "execute_result"
    }
   ],
   "source": [
    "hello = pd.read_csv('083120_tweets.csv', low_memory=False)\n",
    "hello.head()\n",
    "len(hello)"
   ]
  },
  {
   "cell_type": "code",
   "execution_count": 20,
   "metadata": {},
   "outputs": [
    {
     "name": "stdout",
     "output_type": "stream",
     "text": [
      "Requirement already satisfied: inline in /Users/marcosgonzalez/Desktop/anaconda3/envs/new-r/lib/python3.8/site-packages (0.0.1)\n",
      "Requirement already satisfied: matplotlib in /Users/marcosgonzalez/Desktop/anaconda3/envs/new-r/lib/python3.8/site-packages (3.3.2)\n",
      "Requirement already satisfied: cycler>=0.10 in /Users/marcosgonzalez/Desktop/anaconda3/envs/new-r/lib/python3.8/site-packages (from matplotlib) (0.10.0)\n",
      "Requirement already satisfied: certifi>=2020.06.20 in /Users/marcosgonzalez/Desktop/anaconda3/envs/new-r/lib/python3.8/site-packages (from matplotlib) (2020.6.20)\n",
      "Requirement already satisfied: pillow>=6.2.0 in /Users/marcosgonzalez/Desktop/anaconda3/envs/new-r/lib/python3.8/site-packages (from matplotlib) (8.0.0)\n",
      "Requirement already satisfied: kiwisolver>=1.0.1 in /Users/marcosgonzalez/Desktop/anaconda3/envs/new-r/lib/python3.8/site-packages (from matplotlib) (1.2.0)\n",
      "Requirement already satisfied: python-dateutil>=2.1 in /Users/marcosgonzalez/Desktop/anaconda3/envs/new-r/lib/python3.8/site-packages (from matplotlib) (2.8.1)\n",
      "Requirement already satisfied: pyparsing!=2.0.4,!=2.1.2,!=2.1.6,>=2.0.3 in /Users/marcosgonzalez/Desktop/anaconda3/envs/new-r/lib/python3.8/site-packages (from matplotlib) (2.4.7)\n",
      "Requirement already satisfied: numpy>=1.15 in /Users/marcosgonzalez/Desktop/anaconda3/envs/new-r/lib/python3.8/site-packages (from matplotlib) (1.19.1)\n",
      "Requirement already satisfied: six in /Users/marcosgonzalez/Desktop/anaconda3/envs/new-r/lib/python3.8/site-packages (from cycler>=0.10->matplotlib) (1.15.0)\n"
     ]
    }
   ],
   "source": [
    "import re\n",
    "import sys\n",
    "!{sys.executable} -m pip install inline\n",
    "!{sys.executable} -m pip install matplotlib\n",
    "import inline\n",
    "import matplotlib\n",
    "import pandas as pd\n",
    "\n",
    "data = pd.read_csv('september_20_tweets.csv', low_memory=False)\n",
    "\n",
    "# Filter to only English entries.\n",
    "data = data[data['lang'] == 'en']\n",
    "\n",
    "#remove columns other than the tweet, place, or user_location\n",
    "data.drop(data.columns.difference(['text', 'place', 'user_location']), 1, inplace=True)\n",
    "\n",
    "#filter out rows that\n",
    "data1 = data[data.select_dtypes(include='object').apply(lambda x: x.str.contains('california', flags=re.IGNORECASE, regex=True)).all(axis=1)]\n",
    "data2 = data[data.select_dtypes(include='object').apply(lambda x: x.str.contains('CA')).all(axis=1)]\n",
    "data = [data1, data2]\n",
    "result = pd.concat(data)\n",
    "result.head()\n",
    "\n",
    "result.to_csv('092020_tweets.csv',index=False)"
   ]
  },
  {
   "cell_type": "code",
   "execution_count": 22,
   "metadata": {},
   "outputs": [
    {
     "data": {
      "text/plain": [
       "1567"
      ]
     },
     "execution_count": 22,
     "metadata": {},
     "output_type": "execute_result"
    }
   ],
   "source": [
    "h = pd.read_csv('092020_tweets.csv', low_memory=False)\n",
    "h.head()\n",
    "len(h)"
   ]
  },
  {
   "cell_type": "code",
   "execution_count": 41,
   "metadata": {},
   "outputs": [
    {
     "name": "stdout",
     "output_type": "stream",
     "text": [
      "Requirement already satisfied: inline in /Users/marcosgonzalez/Desktop/anaconda3/envs/new-r/lib/python3.8/site-packages (0.0.1)\n",
      "Requirement already satisfied: matplotlib in /Users/marcosgonzalez/Desktop/anaconda3/envs/new-r/lib/python3.8/site-packages (3.3.2)\n",
      "Requirement already satisfied: kiwisolver>=1.0.1 in /Users/marcosgonzalez/Desktop/anaconda3/envs/new-r/lib/python3.8/site-packages (from matplotlib) (1.2.0)\n",
      "Requirement already satisfied: numpy>=1.15 in /Users/marcosgonzalez/Desktop/anaconda3/envs/new-r/lib/python3.8/site-packages (from matplotlib) (1.19.1)\n",
      "Requirement already satisfied: pillow>=6.2.0 in /Users/marcosgonzalez/Desktop/anaconda3/envs/new-r/lib/python3.8/site-packages (from matplotlib) (8.0.0)\n",
      "Requirement already satisfied: python-dateutil>=2.1 in /Users/marcosgonzalez/Desktop/anaconda3/envs/new-r/lib/python3.8/site-packages (from matplotlib) (2.8.1)\n",
      "Requirement already satisfied: pyparsing!=2.0.4,!=2.1.2,!=2.1.6,>=2.0.3 in /Users/marcosgonzalez/Desktop/anaconda3/envs/new-r/lib/python3.8/site-packages (from matplotlib) (2.4.7)\n",
      "Requirement already satisfied: certifi>=2020.06.20 in /Users/marcosgonzalez/Desktop/anaconda3/envs/new-r/lib/python3.8/site-packages (from matplotlib) (2020.6.20)\n",
      "Requirement already satisfied: cycler>=0.10 in /Users/marcosgonzalez/Desktop/anaconda3/envs/new-r/lib/python3.8/site-packages (from matplotlib) (0.10.0)\n",
      "Requirement already satisfied: six>=1.5 in /Users/marcosgonzalez/Desktop/anaconda3/envs/new-r/lib/python3.8/site-packages (from python-dateutil>=2.1->matplotlib) (1.15.0)\n"
     ]
    }
   ],
   "source": [
    "import re\n",
    "import sys\n",
    "!{sys.executable} -m pip install inline\n",
    "!{sys.executable} -m pip install matplotlib\n",
    "import inline\n",
    "import matplotlib\n",
    "import pandas as pd\n",
    "\n",
    "data = pd.read_csv('october_03_tweets.csv', low_memory=False)\n",
    "\n",
    "# Filter to only English entries.\n",
    "data = data[data['lang'] == 'en']\n",
    "\n",
    "#remove columns other than the tweet, place, or user_location\n",
    "data.drop(data.columns.difference(['text', 'place', 'user_location']), 1, inplace=True)\n",
    "\n",
    "#filter out rows that\n",
    "data1 = data[data.select_dtypes(include='object').apply(lambda x: x.str.contains('california', flags=re.IGNORECASE, regex=True)).all(axis=1)]\n",
    "data2 = data[data.select_dtypes(include='object').apply(lambda x: x.str.contains('CA')).all(axis=1)]\n",
    "data = [data1, data2]\n",
    "result = pd.concat(data)\n",
    "result.head()\n",
    "\n",
    "result.to_csv('0100320_tweets.csv',index=False)"
   ]
  },
  {
   "cell_type": "code",
   "execution_count": 42,
   "metadata": {},
   "outputs": [
    {
     "data": {
      "text/plain": [
       "2624"
      ]
     },
     "execution_count": 42,
     "metadata": {},
     "output_type": "execute_result"
    }
   ],
   "source": [
    "p = pd.read_csv('100320_tweets.csv', low_memory=False)\n",
    "p.head()\n",
    "len(p)"
   ]
  },
  {
   "cell_type": "code",
   "execution_count": 19,
   "metadata": {},
   "outputs": [
    {
     "data": {
      "text/plain": [
       "2134"
      ]
     },
     "execution_count": 19,
     "metadata": {},
     "output_type": "execute_result"
    }
   ],
   "source": [
    "a = pd.read_csv('data_032720_tweets.csv', low_memory = False)\n",
    "#a.head()\n",
    "\n",
    "b = pd.read_csv('data_043020_tweets.csv', low_memory = False)\n",
    "#b.head()\n",
    "\n",
    "c = pd.read_csv('data_050720_tweets.csv', low_memory = False)\n",
    "#c.head()\n",
    "\n",
    "d = pd.read_csv('data_072020_tweets.csv', low_memory = False)\n",
    "#d.head()\n",
    "\n",
    "e = pd.read_csv('data_083120_tweets.csv', low_memory = False)\n",
    "#e.head()\n",
    "\n",
    "f = pd.read_csv('data_092020_tweets.csv', low_memory = False)\n",
    "#f.head()\n",
    "\n",
    "g = pd.read_csv('data_100320_tweets.csv', low_memory = False)\n",
    "#g.head()\n",
    "\n"
   ]
  },
  {
   "cell_type": "code",
   "execution_count": 20,
   "metadata": {},
   "outputs": [],
   "source": [
    "import os\n",
    "import glob\n",
    "import pandas as pd"
   ]
  },
  {
   "cell_type": "code",
   "execution_count": 28,
   "metadata": {},
   "outputs": [],
   "source": [
    "extension = 'csv'\n",
    "all_filenames = [\"data_032720_tweets.csv\", \"data_043020_tweets.csv\", \"data_050720_tweets.csv\", \"data_072020_tweets.csv\", \"data_083120_tweets.csv\", \"data_092020_tweets.csv\", \"data_100320_tweets.csv\" ]"
   ]
  },
  {
   "cell_type": "code",
   "execution_count": 29,
   "metadata": {},
   "outputs": [],
   "source": [
    "#combine all files in the list\n",
    "combined_csv = pd.concat([pd.read_csv(f) for f in all_filenames ])\n",
    "#export to csv\n",
    "combined_csv.to_csv( \"combined_all_dates_filtered.csv\", index=False, encoding='utf-8-sig')"
   ]
  },
  {
   "cell_type": "code",
   "execution_count": 30,
   "metadata": {},
   "outputs": [
    {
     "data": {
      "text/html": [
       "<div>\n",
       "<style scoped>\n",
       "    .dataframe tbody tr th:only-of-type {\n",
       "        vertical-align: middle;\n",
       "    }\n",
       "\n",
       "    .dataframe tbody tr th {\n",
       "        vertical-align: top;\n",
       "    }\n",
       "\n",
       "    .dataframe thead th {\n",
       "        text-align: right;\n",
       "    }\n",
       "</style>\n",
       "<table border=\"1\" class=\"dataframe\">\n",
       "  <thead>\n",
       "    <tr style=\"text-align: right;\">\n",
       "      <th></th>\n",
       "      <th>place</th>\n",
       "      <th>text</th>\n",
       "      <th>user_location</th>\n",
       "    </tr>\n",
       "  </thead>\n",
       "  <tbody>\n",
       "    <tr>\n",
       "      <th>0</th>\n",
       "      <td>NaN</td>\n",
       "      <td>California officials implore people not to flu...</td>\n",
       "      <td>NaN</td>\n",
       "    </tr>\n",
       "    <tr>\n",
       "      <th>1</th>\n",
       "      <td>NaN</td>\n",
       "      <td>Coronavirus Southern California update: Los An...</td>\n",
       "      <td>NaN</td>\n",
       "    </tr>\n",
       "    <tr>\n",
       "      <th>2</th>\n",
       "      <td>NaN</td>\n",
       "      <td>@NoLabelsFitMe @mmfa Just more insanity in blu...</td>\n",
       "      <td>Southern California</td>\n",
       "    </tr>\n",
       "    <tr>\n",
       "      <th>3</th>\n",
       "      <td>NaN</td>\n",
       "      <td>⚡️ “California DMV closing all field offices t...</td>\n",
       "      <td>NaN</td>\n",
       "    </tr>\n",
       "    <tr>\n",
       "      <th>4</th>\n",
       "      <td>NaN</td>\n",
       "      <td>California is the next New York, and New York ...</td>\n",
       "      <td>NaN</td>\n",
       "    </tr>\n",
       "  </tbody>\n",
       "</table>\n",
       "</div>"
      ],
      "text/plain": [
       "  place                                               text  \\\n",
       "0   NaN  California officials implore people not to flu...   \n",
       "1   NaN  Coronavirus Southern California update: Los An...   \n",
       "2   NaN  @NoLabelsFitMe @mmfa Just more insanity in blu...   \n",
       "3   NaN  ⚡️ “California DMV closing all field offices t...   \n",
       "4   NaN  California is the next New York, and New York ...   \n",
       "\n",
       "         user_location  \n",
       "0                  NaN  \n",
       "1                  NaN  \n",
       "2  Southern California  \n",
       "3                  NaN  \n",
       "4                  NaN  "
      ]
     },
     "execution_count": 30,
     "metadata": {},
     "output_type": "execute_result"
    }
   ],
   "source": [
    "h = pd.read_csv('combined_all_dates_filtered.csv', low_memory = False)\n",
    "h.head()"
   ]
  },
  {
   "cell_type": "code",
   "execution_count": 31,
   "metadata": {},
   "outputs": [
    {
     "data": {
      "text/plain": [
       "19198"
      ]
     },
     "execution_count": 31,
     "metadata": {},
     "output_type": "execute_result"
    }
   ],
   "source": [
    "len(h)"
   ]
  },
  {
   "cell_type": "code",
   "execution_count": 48,
   "metadata": {},
   "outputs": [
    {
     "data": {
      "text/plain": [
       "50"
      ]
     },
     "execution_count": 48,
     "metadata": {},
     "output_type": "execute_result"
    }
   ],
   "source": [
    "san_diego = h[h[\"user_location\"] == \"San Diego, CA\"]\n",
    "\n",
    "san_francisco = h[h[\"user_location\"] == \"San Francisco, CA\"]\n",
    "\n",
    "los_angeles = h[h[\"user_location\"] == \"Los Angeles, CA\"]\n",
    "\n",
    "sacramento = h[h[\"user_location\"] == \"Sacramento, CA\"]\n",
    "\n",
    "san_jose = h[h[\"user_location\"] == \"San Jose, CA\"]\n",
    "\n",
    "oakland = h[h[\"user_location\"] == \"Oakland, CA\"]"
   ]
  },
  {
   "cell_type": "code",
   "execution_count": 71,
   "metadata": {},
   "outputs": [
    {
     "data": {
      "text/html": [
       "<div>\n",
       "<style scoped>\n",
       "    .dataframe tbody tr th:only-of-type {\n",
       "        vertical-align: middle;\n",
       "    }\n",
       "\n",
       "    .dataframe tbody tr th {\n",
       "        vertical-align: top;\n",
       "    }\n",
       "\n",
       "    .dataframe thead th {\n",
       "        text-align: right;\n",
       "    }\n",
       "</style>\n",
       "<table border=\"1\" class=\"dataframe\">\n",
       "  <thead>\n",
       "    <tr style=\"text-align: right;\">\n",
       "      <th></th>\n",
       "      <th>place</th>\n",
       "      <th>text</th>\n",
       "      <th>user_location</th>\n",
       "      <th>tidy_tweet</th>\n",
       "      <th>bow</th>\n",
       "    </tr>\n",
       "  </thead>\n",
       "  <tbody>\n",
       "    <tr>\n",
       "      <th>0</th>\n",
       "      <td>NaN</td>\n",
       "      <td>California officials implore people not to flu...</td>\n",
       "      <td>NaN</td>\n",
       "      <td>California officials implore people not to flu...</td>\n",
       "      <td>[California, officials, implore, people, not, ...</td>\n",
       "    </tr>\n",
       "    <tr>\n",
       "      <th>1</th>\n",
       "      <td>NaN</td>\n",
       "      <td>Coronavirus Southern California update: Los An...</td>\n",
       "      <td>NaN</td>\n",
       "      <td>Coronavirus Southern California update: Los An...</td>\n",
       "      <td>[Coronavirus, Southern, California, update:, L...</td>\n",
       "    </tr>\n",
       "    <tr>\n",
       "      <th>2</th>\n",
       "      <td>NaN</td>\n",
       "      <td>@NoLabelsFitMe @mmfa Just more insanity in blu...</td>\n",
       "      <td>Southern California</td>\n",
       "      <td>@NoLabelsFitMe @mmfa Just more insanity in blu...</td>\n",
       "      <td>[@NoLabelsFitMe, @mmfa, Just, more, insanity, ...</td>\n",
       "    </tr>\n",
       "    <tr>\n",
       "      <th>3</th>\n",
       "      <td>NaN</td>\n",
       "      <td>⚡️ “California DMV closing all field offices t...</td>\n",
       "      <td>NaN</td>\n",
       "      <td>⚡️ “California DMV closing all field offices t...</td>\n",
       "      <td>[⚡️, “California, DMV, closing, all, field, of...</td>\n",
       "    </tr>\n",
       "    <tr>\n",
       "      <th>4</th>\n",
       "      <td>NaN</td>\n",
       "      <td>California is the next New York, and New York ...</td>\n",
       "      <td>NaN</td>\n",
       "      <td>California is the next New York, and New York ...</td>\n",
       "      <td>[California, is, the, next, New, York,, and, N...</td>\n",
       "    </tr>\n",
       "    <tr>\n",
       "      <th>5</th>\n",
       "      <td>NaN</td>\n",
       "      <td>California DMV closing all field offices to pu...</td>\n",
       "      <td>California USA 🇺🇸</td>\n",
       "      <td>California DMV closing all field offices to pu...</td>\n",
       "      <td>[California, DMV, closing, all, field, offices...</td>\n",
       "    </tr>\n",
       "    <tr>\n",
       "      <th>6</th>\n",
       "      <td>NaN</td>\n",
       "      <td>FRIENDS, I personally know the internationally...</td>\n",
       "      <td>NaN</td>\n",
       "      <td>FRIENDS, I personally know the internationally...</td>\n",
       "      <td>[FRIENDS,, I, personally, know, the, internati...</td>\n",
       "    </tr>\n",
       "    <tr>\n",
       "      <th>7</th>\n",
       "      <td>NaN</td>\n",
       "      <td>Washington, California, NY states are the wors...</td>\n",
       "      <td>NaN</td>\n",
       "      <td>Washington, California, NY states are the wors...</td>\n",
       "      <td>[Washington,, California,, NY, states, are, th...</td>\n",
       "    </tr>\n",
       "    <tr>\n",
       "      <th>8</th>\n",
       "      <td>NaN</td>\n",
       "      <td>URGENT: Call @NYGovCuomo &amp;amp; @GavinNewsom on...</td>\n",
       "      <td>NaN</td>\n",
       "      <td>URGENT: Call @NYGovCuomo &amp;amp; @GavinNewsom on...</td>\n",
       "      <td>[URGENT:, Call, @NYGovCuomo, &amp;amp;, @GavinNews...</td>\n",
       "    </tr>\n",
       "    <tr>\n",
       "      <th>9</th>\n",
       "      <td>NaN</td>\n",
       "      <td>U.S. Customs and Border Protection eventually ...</td>\n",
       "      <td>NaN</td>\n",
       "      <td>U.S. Customs and Border Protection eventually ...</td>\n",
       "      <td>[U.S., Customs, and, Border, Protection, event...</td>\n",
       "    </tr>\n",
       "  </tbody>\n",
       "</table>\n",
       "</div>"
      ],
      "text/plain": [
       "  place                                               text  \\\n",
       "0   NaN  California officials implore people not to flu...   \n",
       "1   NaN  Coronavirus Southern California update: Los An...   \n",
       "2   NaN  @NoLabelsFitMe @mmfa Just more insanity in blu...   \n",
       "3   NaN  ⚡️ “California DMV closing all field offices t...   \n",
       "4   NaN  California is the next New York, and New York ...   \n",
       "5   NaN  California DMV closing all field offices to pu...   \n",
       "6   NaN  FRIENDS, I personally know the internationally...   \n",
       "7   NaN  Washington, California, NY states are the wors...   \n",
       "8   NaN  URGENT: Call @NYGovCuomo &amp; @GavinNewsom on...   \n",
       "9   NaN  U.S. Customs and Border Protection eventually ...   \n",
       "\n",
       "         user_location                                         tidy_tweet  \\\n",
       "0                  NaN  California officials implore people not to flu...   \n",
       "1                  NaN  Coronavirus Southern California update: Los An...   \n",
       "2  Southern California  @NoLabelsFitMe @mmfa Just more insanity in blu...   \n",
       "3                  NaN  ⚡️ “California DMV closing all field offices t...   \n",
       "4                  NaN  California is the next New York, and New York ...   \n",
       "5    California USA 🇺🇸  California DMV closing all field offices to pu...   \n",
       "6                  NaN  FRIENDS, I personally know the internationally...   \n",
       "7                  NaN  Washington, California, NY states are the wors...   \n",
       "8                  NaN  URGENT: Call @NYGovCuomo &amp; @GavinNewsom on...   \n",
       "9                  NaN  U.S. Customs and Border Protection eventually ...   \n",
       "\n",
       "                                                 bow  \n",
       "0  [California, officials, implore, people, not, ...  \n",
       "1  [Coronavirus, Southern, California, update:, L...  \n",
       "2  [@NoLabelsFitMe, @mmfa, Just, more, insanity, ...  \n",
       "3  [⚡️, “California, DMV, closing, all, field, of...  \n",
       "4  [California, is, the, next, New, York,, and, N...  \n",
       "5  [California, DMV, closing, all, field, offices...  \n",
       "6  [FRIENDS,, I, personally, know, the, internati...  \n",
       "7  [Washington,, California,, NY, states, are, th...  \n",
       "8  [URGENT:, Call, @NYGovCuomo, &amp;, @GavinNews...  \n",
       "9  [U.S., Customs, and, Border, Protection, event...  "
      ]
     },
     "execution_count": 71,
     "metadata": {},
     "output_type": "execute_result"
    }
   ],
   "source": [
    "#remove special characters, numbers, punctuations\n",
    "h['tidy_tweet'] = h['text'].str.replace(\"[^a-zA-Z#]\", \"\")\n",
    "h['tidy_tweet'] = h['text'].str.replace(\"\\\\\", \"\")\n",
    "\n",
    "h['bow'] = h['tidy_tweet'].str.split()\n",
    "h = h[h['bow'].isnull() == False]\n",
    "\n",
    "h.head(10)"
   ]
  },
  {
   "cell_type": "code",
   "execution_count": 95,
   "metadata": {},
   "outputs": [
    {
     "ename": "TypeError",
     "evalue": "first argument must be an iterable of pandas objects, you passed an object of type \"Series\"",
     "output_type": "error",
     "traceback": [
      "\u001b[0;31m---------------------------------------------------------------------------\u001b[0m",
      "\u001b[0;31mTypeError\u001b[0m                                 Traceback (most recent call last)",
      "\u001b[0;32m<ipython-input-95-4b6a9c935237>\u001b[0m in \u001b[0;36m<module>\u001b[0;34m\u001b[0m\n\u001b[1;32m      1\u001b[0m \u001b[0;32mimport\u001b[0m \u001b[0mpandas\u001b[0m \u001b[0;32mas\u001b[0m \u001b[0mpd\u001b[0m\u001b[0;34m\u001b[0m\u001b[0;34m\u001b[0m\u001b[0m\n\u001b[1;32m      2\u001b[0m \u001b[0;34m\u001b[0m\u001b[0m\n\u001b[0;32m----> 3\u001b[0;31m \u001b[0mall\u001b[0m \u001b[0;34m=\u001b[0m \u001b[0mpd\u001b[0m\u001b[0;34m.\u001b[0m\u001b[0mvalue_counts\u001b[0m\u001b[0;34m(\u001b[0m\u001b[0mlist\u001b[0m\u001b[0;34m(\u001b[0m\u001b[0mpd\u001b[0m\u001b[0;34m.\u001b[0m\u001b[0mconcat\u001b[0m\u001b[0;34m(\u001b[0m\u001b[0mh\u001b[0m\u001b[0;34m[\u001b[0m\u001b[0;34m'bow'\u001b[0m\u001b[0;34m]\u001b[0m\u001b[0;34m)\u001b[0m\u001b[0;34m)\u001b[0m\u001b[0;34m)\u001b[0m\u001b[0;34m\u001b[0m\u001b[0;34m\u001b[0m\u001b[0m\n\u001b[0m\u001b[1;32m      4\u001b[0m \u001b[0mfreq\u001b[0m \u001b[0;34m=\u001b[0m \u001b[0mpd\u001b[0m\u001b[0;34m.\u001b[0m\u001b[0mDataFrame\u001b[0m\u001b[0;34m(\u001b[0m\u001b[0;34m{\u001b[0m\u001b[0;34m'All'\u001b[0m\u001b[0;34m:\u001b[0m\u001b[0mall\u001b[0m\u001b[0;34m}\u001b[0m\u001b[0;34m)\u001b[0m\u001b[0;34m\u001b[0m\u001b[0;34m\u001b[0m\u001b[0m\n\u001b[1;32m      5\u001b[0m \u001b[0;34m\u001b[0m\u001b[0m\n",
      "\u001b[0;32m~/Desktop/anaconda3/envs/new-r/lib/python3.8/site-packages/pandas/core/reshape/concat.py\u001b[0m in \u001b[0;36mconcat\u001b[0;34m(objs, axis, join, ignore_index, keys, levels, names, verify_integrity, sort, copy)\u001b[0m\n\u001b[1;32m    272\u001b[0m     \u001b[0mValueError\u001b[0m\u001b[0;34m:\u001b[0m \u001b[0mIndexes\u001b[0m \u001b[0mhave\u001b[0m \u001b[0moverlapping\u001b[0m \u001b[0mvalues\u001b[0m\u001b[0;34m:\u001b[0m \u001b[0;34m[\u001b[0m\u001b[0;34m'a'\u001b[0m\u001b[0;34m]\u001b[0m\u001b[0;34m\u001b[0m\u001b[0;34m\u001b[0m\u001b[0m\n\u001b[1;32m    273\u001b[0m     \"\"\"\n\u001b[0;32m--> 274\u001b[0;31m     op = _Concatenator(\n\u001b[0m\u001b[1;32m    275\u001b[0m         \u001b[0mobjs\u001b[0m\u001b[0;34m,\u001b[0m\u001b[0;34m\u001b[0m\u001b[0;34m\u001b[0m\u001b[0m\n\u001b[1;32m    276\u001b[0m         \u001b[0maxis\u001b[0m\u001b[0;34m=\u001b[0m\u001b[0maxis\u001b[0m\u001b[0;34m,\u001b[0m\u001b[0;34m\u001b[0m\u001b[0;34m\u001b[0m\u001b[0m\n",
      "\u001b[0;32m~/Desktop/anaconda3/envs/new-r/lib/python3.8/site-packages/pandas/core/reshape/concat.py\u001b[0m in \u001b[0;36m__init__\u001b[0;34m(self, objs, axis, join, keys, levels, names, ignore_index, verify_integrity, copy, sort)\u001b[0m\n\u001b[1;32m    307\u001b[0m     ):\n\u001b[1;32m    308\u001b[0m         \u001b[0;32mif\u001b[0m \u001b[0misinstance\u001b[0m\u001b[0;34m(\u001b[0m\u001b[0mobjs\u001b[0m\u001b[0;34m,\u001b[0m \u001b[0;34m(\u001b[0m\u001b[0mABCSeries\u001b[0m\u001b[0;34m,\u001b[0m \u001b[0mABCDataFrame\u001b[0m\u001b[0;34m,\u001b[0m \u001b[0mstr\u001b[0m\u001b[0;34m)\u001b[0m\u001b[0;34m)\u001b[0m\u001b[0;34m:\u001b[0m\u001b[0;34m\u001b[0m\u001b[0;34m\u001b[0m\u001b[0m\n\u001b[0;32m--> 309\u001b[0;31m             raise TypeError(\n\u001b[0m\u001b[1;32m    310\u001b[0m                 \u001b[0;34m\"first argument must be an iterable of pandas \"\u001b[0m\u001b[0;34m\u001b[0m\u001b[0;34m\u001b[0m\u001b[0m\n\u001b[1;32m    311\u001b[0m                 \u001b[0;34mf'objects, you passed an object of type \"{type(objs).__name__}\"'\u001b[0m\u001b[0;34m\u001b[0m\u001b[0;34m\u001b[0m\u001b[0m\n",
      "\u001b[0;31mTypeError\u001b[0m: first argument must be an iterable of pandas objects, you passed an object of type \"Series\""
     ]
    }
   ],
   "source": [
    "import pandas as pd\n",
    "\n",
    "all = pd.value_counts(list(pd.concat(h['bow'])))\n",
    "freq = pd.DataFrame({'All':all})\n",
    "\n",
    "A = pd.value_counts(list(pd.concat(san_diego['bow'])))\n",
    "freq['san_diego'] = A\n",
    "\n",
    "freq['PMI'] = np.log2((freq['san_diego'] * np.sum(freq['All'])) / (freq['All'] * np.sum(freq['san_diego'])))\n",
    "\n",
    "freq2 = freq[freq['san_diego'] > 5]\n",
    "freq2.sort_values(by = 'PMI', ascending = False)\n",
    "words = [w for w in freq2.index.values if w not in more_stopwords]\n",
    "freq3 = freq2.loc[words]\n",
    "\n",
    "name = dfmasks['cleaned_text'].iloc[0]\n",
    "freq3.sort_values(by = 'PMI', ascending = False).to_csv('D:/'+'{}_PMI.csv'.format(name))"
   ]
  }
 ],
 "metadata": {
  "kernelspec": {
   "display_name": "Python 3",
   "language": "python",
   "name": "python3"
  },
  "language_info": {
   "codemirror_mode": {
    "name": "ipython",
    "version": 3
   },
   "file_extension": ".py",
   "mimetype": "text/x-python",
   "name": "python",
   "nbconvert_exporter": "python",
   "pygments_lexer": "ipython3",
   "version": "3.8.2"
  }
 },
 "nbformat": 4,
 "nbformat_minor": 4
}
